{
 "cells": [
  {
   "cell_type": "code",
   "execution_count": 1,
   "id": "bdef4bc0-89ff-4dd9-9326-e5d3fccbc4f6",
   "metadata": {
    "execution": {
     "iopub.execute_input": "2021-08-02T08:02:16.585144Z",
     "iopub.status.busy": "2021-08-02T08:02:16.585144Z",
     "iopub.status.idle": "2021-08-02T08:02:19.377025Z",
     "shell.execute_reply": "2021-08-02T08:02:19.376020Z",
     "shell.execute_reply.started": "2021-08-02T08:02:16.585144Z"
    },
    "tags": []
   },
   "outputs": [],
   "source": [
    "import pandas as pd\n",
    "import numpy as np\n",
    "import matplotlib.pyplot as plt\n",
    "import seaborn as sns\n",
    "from sklearn.feature_extraction.text import (\n",
    "    TfidfVectorizer, # i want to down weight a word in global\n",
    "    CountVectorizer # i don't want to down weight a word in global\n",
    ")\n",
    "from sklearn.metrics.pairwise import cosine_similarity\n",
    "from ast import literal_eval"
   ]
  },
  {
   "cell_type": "code",
   "execution_count": 2,
   "id": "6d63c400-e10d-4119-958a-7e755a3c97ae",
   "metadata": {
    "execution": {
     "iopub.execute_input": "2021-08-02T08:02:19.377386Z",
     "iopub.status.busy": "2021-08-02T08:02:19.377386Z",
     "iopub.status.idle": "2021-08-02T08:02:20.028082Z",
     "shell.execute_reply": "2021-08-02T08:02:20.028082Z",
     "shell.execute_reply.started": "2021-08-02T08:02:19.377386Z"
    },
    "tags": []
   },
   "outputs": [
    {
     "data": {
      "text/html": [
       "<div>\n",
       "<style scoped>\n",
       "    .dataframe tbody tr th:only-of-type {\n",
       "        vertical-align: middle;\n",
       "    }\n",
       "\n",
       "    .dataframe tbody tr th {\n",
       "        vertical-align: top;\n",
       "    }\n",
       "\n",
       "    .dataframe thead th {\n",
       "        text-align: right;\n",
       "    }\n",
       "</style>\n",
       "<table border=\"1\" class=\"dataframe\">\n",
       "  <thead>\n",
       "    <tr style=\"text-align: right;\">\n",
       "      <th></th>\n",
       "      <th>adult</th>\n",
       "      <th>belongs_to_collection</th>\n",
       "      <th>budget</th>\n",
       "      <th>genres</th>\n",
       "      <th>homepage</th>\n",
       "      <th>id</th>\n",
       "      <th>imdb_id</th>\n",
       "      <th>original_language</th>\n",
       "      <th>original_title</th>\n",
       "      <th>overview</th>\n",
       "      <th>...</th>\n",
       "      <th>release_date</th>\n",
       "      <th>revenue</th>\n",
       "      <th>runtime</th>\n",
       "      <th>spoken_languages</th>\n",
       "      <th>status</th>\n",
       "      <th>tagline</th>\n",
       "      <th>title</th>\n",
       "      <th>video</th>\n",
       "      <th>vote_average</th>\n",
       "      <th>vote_count</th>\n",
       "    </tr>\n",
       "  </thead>\n",
       "  <tbody>\n",
       "    <tr>\n",
       "      <th>0</th>\n",
       "      <td>False</td>\n",
       "      <td>{'id': 10194, 'name': 'Toy Story Collection', ...</td>\n",
       "      <td>30000000</td>\n",
       "      <td>[{'id': 16, 'name': 'Animation'}, {'id': 35, '...</td>\n",
       "      <td>http://toystory.disney.com/toy-story</td>\n",
       "      <td>862</td>\n",
       "      <td>tt0114709</td>\n",
       "      <td>en</td>\n",
       "      <td>Toy Story</td>\n",
       "      <td>Led by Woody, Andy's toys live happily in his ...</td>\n",
       "      <td>...</td>\n",
       "      <td>1995-10-30</td>\n",
       "      <td>373554033.0</td>\n",
       "      <td>81.0</td>\n",
       "      <td>[{'iso_639_1': 'en', 'name': 'English'}]</td>\n",
       "      <td>Released</td>\n",
       "      <td>NaN</td>\n",
       "      <td>Toy Story</td>\n",
       "      <td>False</td>\n",
       "      <td>7.7</td>\n",
       "      <td>5415.0</td>\n",
       "    </tr>\n",
       "    <tr>\n",
       "      <th>1</th>\n",
       "      <td>False</td>\n",
       "      <td>NaN</td>\n",
       "      <td>65000000</td>\n",
       "      <td>[{'id': 12, 'name': 'Adventure'}, {'id': 14, '...</td>\n",
       "      <td>NaN</td>\n",
       "      <td>8844</td>\n",
       "      <td>tt0113497</td>\n",
       "      <td>en</td>\n",
       "      <td>Jumanji</td>\n",
       "      <td>When siblings Judy and Peter discover an encha...</td>\n",
       "      <td>...</td>\n",
       "      <td>1995-12-15</td>\n",
       "      <td>262797249.0</td>\n",
       "      <td>104.0</td>\n",
       "      <td>[{'iso_639_1': 'en', 'name': 'English'}, {'iso...</td>\n",
       "      <td>Released</td>\n",
       "      <td>Roll the dice and unleash the excitement!</td>\n",
       "      <td>Jumanji</td>\n",
       "      <td>False</td>\n",
       "      <td>6.9</td>\n",
       "      <td>2413.0</td>\n",
       "    </tr>\n",
       "    <tr>\n",
       "      <th>2</th>\n",
       "      <td>False</td>\n",
       "      <td>{'id': 119050, 'name': 'Grumpy Old Men Collect...</td>\n",
       "      <td>0</td>\n",
       "      <td>[{'id': 10749, 'name': 'Romance'}, {'id': 35, ...</td>\n",
       "      <td>NaN</td>\n",
       "      <td>15602</td>\n",
       "      <td>tt0113228</td>\n",
       "      <td>en</td>\n",
       "      <td>Grumpier Old Men</td>\n",
       "      <td>A family wedding reignites the ancient feud be...</td>\n",
       "      <td>...</td>\n",
       "      <td>1995-12-22</td>\n",
       "      <td>0.0</td>\n",
       "      <td>101.0</td>\n",
       "      <td>[{'iso_639_1': 'en', 'name': 'English'}]</td>\n",
       "      <td>Released</td>\n",
       "      <td>Still Yelling. Still Fighting. Still Ready for...</td>\n",
       "      <td>Grumpier Old Men</td>\n",
       "      <td>False</td>\n",
       "      <td>6.5</td>\n",
       "      <td>92.0</td>\n",
       "    </tr>\n",
       "    <tr>\n",
       "      <th>3</th>\n",
       "      <td>False</td>\n",
       "      <td>NaN</td>\n",
       "      <td>16000000</td>\n",
       "      <td>[{'id': 35, 'name': 'Comedy'}, {'id': 18, 'nam...</td>\n",
       "      <td>NaN</td>\n",
       "      <td>31357</td>\n",
       "      <td>tt0114885</td>\n",
       "      <td>en</td>\n",
       "      <td>Waiting to Exhale</td>\n",
       "      <td>Cheated on, mistreated and stepped on, the wom...</td>\n",
       "      <td>...</td>\n",
       "      <td>1995-12-22</td>\n",
       "      <td>81452156.0</td>\n",
       "      <td>127.0</td>\n",
       "      <td>[{'iso_639_1': 'en', 'name': 'English'}]</td>\n",
       "      <td>Released</td>\n",
       "      <td>Friends are the people who let you be yourself...</td>\n",
       "      <td>Waiting to Exhale</td>\n",
       "      <td>False</td>\n",
       "      <td>6.1</td>\n",
       "      <td>34.0</td>\n",
       "    </tr>\n",
       "    <tr>\n",
       "      <th>4</th>\n",
       "      <td>False</td>\n",
       "      <td>{'id': 96871, 'name': 'Father of the Bride Col...</td>\n",
       "      <td>0</td>\n",
       "      <td>[{'id': 35, 'name': 'Comedy'}]</td>\n",
       "      <td>NaN</td>\n",
       "      <td>11862</td>\n",
       "      <td>tt0113041</td>\n",
       "      <td>en</td>\n",
       "      <td>Father of the Bride Part II</td>\n",
       "      <td>Just when George Banks has recovered from his ...</td>\n",
       "      <td>...</td>\n",
       "      <td>1995-02-10</td>\n",
       "      <td>76578911.0</td>\n",
       "      <td>106.0</td>\n",
       "      <td>[{'iso_639_1': 'en', 'name': 'English'}]</td>\n",
       "      <td>Released</td>\n",
       "      <td>Just When His World Is Back To Normal... He's ...</td>\n",
       "      <td>Father of the Bride Part II</td>\n",
       "      <td>False</td>\n",
       "      <td>5.7</td>\n",
       "      <td>173.0</td>\n",
       "    </tr>\n",
       "    <tr>\n",
       "      <th>...</th>\n",
       "      <td>...</td>\n",
       "      <td>...</td>\n",
       "      <td>...</td>\n",
       "      <td>...</td>\n",
       "      <td>...</td>\n",
       "      <td>...</td>\n",
       "      <td>...</td>\n",
       "      <td>...</td>\n",
       "      <td>...</td>\n",
       "      <td>...</td>\n",
       "      <td>...</td>\n",
       "      <td>...</td>\n",
       "      <td>...</td>\n",
       "      <td>...</td>\n",
       "      <td>...</td>\n",
       "      <td>...</td>\n",
       "      <td>...</td>\n",
       "      <td>...</td>\n",
       "      <td>...</td>\n",
       "      <td>...</td>\n",
       "      <td>...</td>\n",
       "    </tr>\n",
       "    <tr>\n",
       "      <th>45461</th>\n",
       "      <td>False</td>\n",
       "      <td>NaN</td>\n",
       "      <td>0</td>\n",
       "      <td>[{'id': 18, 'name': 'Drama'}, {'id': 10751, 'n...</td>\n",
       "      <td>http://www.imdb.com/title/tt6209470/</td>\n",
       "      <td>439050</td>\n",
       "      <td>tt6209470</td>\n",
       "      <td>fa</td>\n",
       "      <td>رگ خواب</td>\n",
       "      <td>Rising and falling between a man and woman.</td>\n",
       "      <td>...</td>\n",
       "      <td>NaN</td>\n",
       "      <td>0.0</td>\n",
       "      <td>90.0</td>\n",
       "      <td>[{'iso_639_1': 'fa', 'name': 'فارسی'}]</td>\n",
       "      <td>Released</td>\n",
       "      <td>Rising and falling between a man and woman</td>\n",
       "      <td>Subdue</td>\n",
       "      <td>False</td>\n",
       "      <td>4.0</td>\n",
       "      <td>1.0</td>\n",
       "    </tr>\n",
       "    <tr>\n",
       "      <th>45462</th>\n",
       "      <td>False</td>\n",
       "      <td>NaN</td>\n",
       "      <td>0</td>\n",
       "      <td>[{'id': 18, 'name': 'Drama'}]</td>\n",
       "      <td>NaN</td>\n",
       "      <td>111109</td>\n",
       "      <td>tt2028550</td>\n",
       "      <td>tl</td>\n",
       "      <td>Siglo ng Pagluluwal</td>\n",
       "      <td>An artist struggles to finish his work while a...</td>\n",
       "      <td>...</td>\n",
       "      <td>2011-11-17</td>\n",
       "      <td>0.0</td>\n",
       "      <td>360.0</td>\n",
       "      <td>[{'iso_639_1': 'tl', 'name': ''}]</td>\n",
       "      <td>Released</td>\n",
       "      <td>NaN</td>\n",
       "      <td>Century of Birthing</td>\n",
       "      <td>False</td>\n",
       "      <td>9.0</td>\n",
       "      <td>3.0</td>\n",
       "    </tr>\n",
       "    <tr>\n",
       "      <th>45463</th>\n",
       "      <td>False</td>\n",
       "      <td>NaN</td>\n",
       "      <td>0</td>\n",
       "      <td>[{'id': 28, 'name': 'Action'}, {'id': 18, 'nam...</td>\n",
       "      <td>NaN</td>\n",
       "      <td>67758</td>\n",
       "      <td>tt0303758</td>\n",
       "      <td>en</td>\n",
       "      <td>Betrayal</td>\n",
       "      <td>When one of her hits goes wrong, a professiona...</td>\n",
       "      <td>...</td>\n",
       "      <td>2003-08-01</td>\n",
       "      <td>0.0</td>\n",
       "      <td>90.0</td>\n",
       "      <td>[{'iso_639_1': 'en', 'name': 'English'}]</td>\n",
       "      <td>Released</td>\n",
       "      <td>A deadly game of wits.</td>\n",
       "      <td>Betrayal</td>\n",
       "      <td>False</td>\n",
       "      <td>3.8</td>\n",
       "      <td>6.0</td>\n",
       "    </tr>\n",
       "    <tr>\n",
       "      <th>45464</th>\n",
       "      <td>False</td>\n",
       "      <td>NaN</td>\n",
       "      <td>0</td>\n",
       "      <td>[]</td>\n",
       "      <td>NaN</td>\n",
       "      <td>227506</td>\n",
       "      <td>tt0008536</td>\n",
       "      <td>en</td>\n",
       "      <td>Satana likuyushchiy</td>\n",
       "      <td>In a small town live two brothers, one a minis...</td>\n",
       "      <td>...</td>\n",
       "      <td>1917-10-21</td>\n",
       "      <td>0.0</td>\n",
       "      <td>87.0</td>\n",
       "      <td>[]</td>\n",
       "      <td>Released</td>\n",
       "      <td>NaN</td>\n",
       "      <td>Satan Triumphant</td>\n",
       "      <td>False</td>\n",
       "      <td>0.0</td>\n",
       "      <td>0.0</td>\n",
       "    </tr>\n",
       "    <tr>\n",
       "      <th>45465</th>\n",
       "      <td>False</td>\n",
       "      <td>NaN</td>\n",
       "      <td>0</td>\n",
       "      <td>[]</td>\n",
       "      <td>NaN</td>\n",
       "      <td>461257</td>\n",
       "      <td>tt6980792</td>\n",
       "      <td>en</td>\n",
       "      <td>Queerama</td>\n",
       "      <td>50 years after decriminalisation of homosexual...</td>\n",
       "      <td>...</td>\n",
       "      <td>2017-06-09</td>\n",
       "      <td>0.0</td>\n",
       "      <td>75.0</td>\n",
       "      <td>[{'iso_639_1': 'en', 'name': 'English'}]</td>\n",
       "      <td>Released</td>\n",
       "      <td>NaN</td>\n",
       "      <td>Queerama</td>\n",
       "      <td>False</td>\n",
       "      <td>0.0</td>\n",
       "      <td>0.0</td>\n",
       "    </tr>\n",
       "  </tbody>\n",
       "</table>\n",
       "<p>45466 rows × 24 columns</p>\n",
       "</div>"
      ],
      "text/plain": [
       "       adult                              belongs_to_collection    budget  \\\n",
       "0      False  {'id': 10194, 'name': 'Toy Story Collection', ...  30000000   \n",
       "1      False                                                NaN  65000000   \n",
       "2      False  {'id': 119050, 'name': 'Grumpy Old Men Collect...         0   \n",
       "3      False                                                NaN  16000000   \n",
       "4      False  {'id': 96871, 'name': 'Father of the Bride Col...         0   \n",
       "...      ...                                                ...       ...   \n",
       "45461  False                                                NaN         0   \n",
       "45462  False                                                NaN         0   \n",
       "45463  False                                                NaN         0   \n",
       "45464  False                                                NaN         0   \n",
       "45465  False                                                NaN         0   \n",
       "\n",
       "                                                  genres  \\\n",
       "0      [{'id': 16, 'name': 'Animation'}, {'id': 35, '...   \n",
       "1      [{'id': 12, 'name': 'Adventure'}, {'id': 14, '...   \n",
       "2      [{'id': 10749, 'name': 'Romance'}, {'id': 35, ...   \n",
       "3      [{'id': 35, 'name': 'Comedy'}, {'id': 18, 'nam...   \n",
       "4                         [{'id': 35, 'name': 'Comedy'}]   \n",
       "...                                                  ...   \n",
       "45461  [{'id': 18, 'name': 'Drama'}, {'id': 10751, 'n...   \n",
       "45462                      [{'id': 18, 'name': 'Drama'}]   \n",
       "45463  [{'id': 28, 'name': 'Action'}, {'id': 18, 'nam...   \n",
       "45464                                                 []   \n",
       "45465                                                 []   \n",
       "\n",
       "                                   homepage      id    imdb_id  \\\n",
       "0      http://toystory.disney.com/toy-story     862  tt0114709   \n",
       "1                                       NaN    8844  tt0113497   \n",
       "2                                       NaN   15602  tt0113228   \n",
       "3                                       NaN   31357  tt0114885   \n",
       "4                                       NaN   11862  tt0113041   \n",
       "...                                     ...     ...        ...   \n",
       "45461  http://www.imdb.com/title/tt6209470/  439050  tt6209470   \n",
       "45462                                   NaN  111109  tt2028550   \n",
       "45463                                   NaN   67758  tt0303758   \n",
       "45464                                   NaN  227506  tt0008536   \n",
       "45465                                   NaN  461257  tt6980792   \n",
       "\n",
       "      original_language               original_title  \\\n",
       "0                    en                    Toy Story   \n",
       "1                    en                      Jumanji   \n",
       "2                    en             Grumpier Old Men   \n",
       "3                    en            Waiting to Exhale   \n",
       "4                    en  Father of the Bride Part II   \n",
       "...                 ...                          ...   \n",
       "45461                fa                      رگ خواب   \n",
       "45462                tl          Siglo ng Pagluluwal   \n",
       "45463                en                     Betrayal   \n",
       "45464                en          Satana likuyushchiy   \n",
       "45465                en                     Queerama   \n",
       "\n",
       "                                                overview  ... release_date  \\\n",
       "0      Led by Woody, Andy's toys live happily in his ...  ...   1995-10-30   \n",
       "1      When siblings Judy and Peter discover an encha...  ...   1995-12-15   \n",
       "2      A family wedding reignites the ancient feud be...  ...   1995-12-22   \n",
       "3      Cheated on, mistreated and stepped on, the wom...  ...   1995-12-22   \n",
       "4      Just when George Banks has recovered from his ...  ...   1995-02-10   \n",
       "...                                                  ...  ...          ...   \n",
       "45461        Rising and falling between a man and woman.  ...          NaN   \n",
       "45462  An artist struggles to finish his work while a...  ...   2011-11-17   \n",
       "45463  When one of her hits goes wrong, a professiona...  ...   2003-08-01   \n",
       "45464  In a small town live two brothers, one a minis...  ...   1917-10-21   \n",
       "45465  50 years after decriminalisation of homosexual...  ...   2017-06-09   \n",
       "\n",
       "           revenue runtime                                   spoken_languages  \\\n",
       "0      373554033.0    81.0           [{'iso_639_1': 'en', 'name': 'English'}]   \n",
       "1      262797249.0   104.0  [{'iso_639_1': 'en', 'name': 'English'}, {'iso...   \n",
       "2              0.0   101.0           [{'iso_639_1': 'en', 'name': 'English'}]   \n",
       "3       81452156.0   127.0           [{'iso_639_1': 'en', 'name': 'English'}]   \n",
       "4       76578911.0   106.0           [{'iso_639_1': 'en', 'name': 'English'}]   \n",
       "...            ...     ...                                                ...   \n",
       "45461          0.0    90.0             [{'iso_639_1': 'fa', 'name': 'فارسی'}]   \n",
       "45462          0.0   360.0                  [{'iso_639_1': 'tl', 'name': ''}]   \n",
       "45463          0.0    90.0           [{'iso_639_1': 'en', 'name': 'English'}]   \n",
       "45464          0.0    87.0                                                 []   \n",
       "45465          0.0    75.0           [{'iso_639_1': 'en', 'name': 'English'}]   \n",
       "\n",
       "         status                                            tagline  \\\n",
       "0      Released                                                NaN   \n",
       "1      Released          Roll the dice and unleash the excitement!   \n",
       "2      Released  Still Yelling. Still Fighting. Still Ready for...   \n",
       "3      Released  Friends are the people who let you be yourself...   \n",
       "4      Released  Just When His World Is Back To Normal... He's ...   \n",
       "...         ...                                                ...   \n",
       "45461  Released         Rising and falling between a man and woman   \n",
       "45462  Released                                                NaN   \n",
       "45463  Released                             A deadly game of wits.   \n",
       "45464  Released                                                NaN   \n",
       "45465  Released                                                NaN   \n",
       "\n",
       "                             title  video vote_average vote_count  \n",
       "0                        Toy Story  False          7.7     5415.0  \n",
       "1                          Jumanji  False          6.9     2413.0  \n",
       "2                 Grumpier Old Men  False          6.5       92.0  \n",
       "3                Waiting to Exhale  False          6.1       34.0  \n",
       "4      Father of the Bride Part II  False          5.7      173.0  \n",
       "...                            ...    ...          ...        ...  \n",
       "45461                       Subdue  False          4.0        1.0  \n",
       "45462          Century of Birthing  False          9.0        3.0  \n",
       "45463                     Betrayal  False          3.8        6.0  \n",
       "45464             Satan Triumphant  False          0.0        0.0  \n",
       "45465                     Queerama  False          0.0        0.0  \n",
       "\n",
       "[45466 rows x 24 columns]"
      ]
     },
     "execution_count": 2,
     "metadata": {},
     "output_type": "execute_result"
    }
   ],
   "source": [
    "metadata = pd.read_csv('data/movies_metadata.csv', low_memory=False)\n",
    "metadata"
   ]
  },
  {
   "cell_type": "code",
   "execution_count": 3,
   "id": "3f9ad398-ce11-421b-ab10-c6b209aaea1c",
   "metadata": {
    "execution": {
     "iopub.execute_input": "2021-08-02T08:02:20.029085Z",
     "iopub.status.busy": "2021-08-02T08:02:20.029085Z",
     "iopub.status.idle": "2021-08-02T08:02:20.059364Z",
     "shell.execute_reply": "2021-08-02T08:02:20.059364Z",
     "shell.execute_reply.started": "2021-08-02T08:02:20.029085Z"
    }
   },
   "outputs": [],
   "source": [
    "# Remove rows with bad IDs.\n",
    "metadata = metadata.drop([19730, 29503, 35587])"
   ]
  },
  {
   "cell_type": "code",
   "execution_count": 4,
   "id": "e9f25c55-5062-436d-85ac-c25a6dcc9c2d",
   "metadata": {
    "execution": {
     "iopub.execute_input": "2021-08-02T08:02:20.061315Z",
     "iopub.status.busy": "2021-08-02T08:02:20.060317Z",
     "iopub.status.idle": "2021-08-02T08:02:20.091164Z",
     "shell.execute_reply": "2021-08-02T08:02:20.091164Z",
     "shell.execute_reply.started": "2021-08-02T08:02:20.060317Z"
    },
    "tags": []
   },
   "outputs": [],
   "source": [
    "metadata['id'] = metadata['id'].astype('int')"
   ]
  },
  {
   "cell_type": "code",
   "execution_count": 5,
   "id": "cc90984a-daf7-4f0e-b367-59c4391fe5a9",
   "metadata": {
    "execution": {
     "iopub.execute_input": "2021-08-02T08:02:20.092367Z",
     "iopub.status.busy": "2021-08-02T08:02:20.092367Z",
     "iopub.status.idle": "2021-08-02T08:02:20.154935Z",
     "shell.execute_reply": "2021-08-02T08:02:20.153987Z",
     "shell.execute_reply.started": "2021-08-02T08:02:20.092367Z"
    },
    "tags": []
   },
   "outputs": [
    {
     "name": "stdout",
     "output_type": "stream",
     "text": [
      "<class 'pandas.core.frame.DataFrame'>\n",
      "Int64Index: 45463 entries, 0 to 45465\n",
      "Data columns (total 24 columns):\n",
      " #   Column                 Non-Null Count  Dtype  \n",
      "---  ------                 --------------  -----  \n",
      " 0   adult                  45463 non-null  object \n",
      " 1   belongs_to_collection  4491 non-null   object \n",
      " 2   budget                 45463 non-null  object \n",
      " 3   genres                 45463 non-null  object \n",
      " 4   homepage               7779 non-null   object \n",
      " 5   id                     45463 non-null  int32  \n",
      " 6   imdb_id                45446 non-null  object \n",
      " 7   original_language      45452 non-null  object \n",
      " 8   original_title         45463 non-null  object \n",
      " 9   overview               44509 non-null  object \n",
      " 10  popularity             45460 non-null  object \n",
      " 11  poster_path            45077 non-null  object \n",
      " 12  production_companies   45460 non-null  object \n",
      " 13  production_countries   45460 non-null  object \n",
      " 14  release_date           45376 non-null  object \n",
      " 15  revenue                45460 non-null  float64\n",
      " 16  runtime                45203 non-null  float64\n",
      " 17  spoken_languages       45460 non-null  object \n",
      " 18  status                 45379 non-null  object \n",
      " 19  tagline                20412 non-null  object \n",
      " 20  title                  45460 non-null  object \n",
      " 21  video                  45460 non-null  object \n",
      " 22  vote_average           45460 non-null  float64\n",
      " 23  vote_count             45460 non-null  float64\n",
      "dtypes: float64(4), int32(1), object(19)\n",
      "memory usage: 8.5+ MB\n"
     ]
    }
   ],
   "source": [
    "metadata.info()"
   ]
  },
  {
   "cell_type": "markdown",
   "id": "b6d2992d-a33f-4c95-8423-a94a02e321f1",
   "metadata": {},
   "source": [
    "We shoud compute pairwise `cosine` similarity scores for all movies based on their descriptions and recommend movies based on that similarity score threshold."
   ]
  },
  {
   "cell_type": "code",
   "execution_count": 6,
   "id": "edd4df73-0b76-46b5-8adf-7da8ca6ce7c0",
   "metadata": {
    "execution": {
     "iopub.execute_input": "2021-08-02T08:02:20.155997Z",
     "iopub.status.busy": "2021-08-02T08:02:20.154935Z",
     "iopub.status.idle": "2021-08-02T08:02:20.169942Z",
     "shell.execute_reply": "2021-08-02T08:02:20.169942Z",
     "shell.execute_reply.started": "2021-08-02T08:02:20.155997Z"
    },
    "tags": []
   },
   "outputs": [
    {
     "data": {
      "text/plain": [
       "0    Led by Woody, Andy's toys live happily in his ...\n",
       "1    When siblings Judy and Peter discover an encha...\n",
       "2    A family wedding reignites the ancient feud be...\n",
       "3    Cheated on, mistreated and stepped on, the wom...\n",
       "4    Just when George Banks has recovered from his ...\n",
       "Name: overview, dtype: object"
      ]
     },
     "execution_count": 6,
     "metadata": {},
     "output_type": "execute_result"
    }
   ],
   "source": [
    "metadata['overview'].head()"
   ]
  },
  {
   "cell_type": "code",
   "execution_count": 7,
   "id": "8a940e0f-4ae2-4ef3-9bbf-8cd4325ee97d",
   "metadata": {
    "execution": {
     "iopub.execute_input": "2021-08-02T08:02:20.172730Z",
     "iopub.status.busy": "2021-08-02T08:02:20.172730Z",
     "iopub.status.idle": "2021-08-02T08:02:20.186573Z",
     "shell.execute_reply": "2021-08-02T08:02:20.185229Z",
     "shell.execute_reply.started": "2021-08-02T08:02:20.172730Z"
    },
    "tags": []
   },
   "outputs": [
    {
     "data": {
      "text/plain": [
       "\"Led by Woody, Andy's toys live happily in his room until Andy's birthday brings Buzz Lightyear onto the scene. Afraid of losing his place in Andy's heart, Woody plots against Buzz. But when circumstances separate Buzz and Woody from their owner, the duo eventually learns to put aside their differences.\""
      ]
     },
     "execution_count": 7,
     "metadata": {},
     "output_type": "execute_result"
    }
   ],
   "source": [
    "metadata['overview'][0]"
   ]
  },
  {
   "cell_type": "markdown",
   "id": "f7b09e36-a3a8-4eff-80cb-f3ff1fe18c65",
   "metadata": {},
   "source": [
    "Just use the subset of large datasets for memory saving issues"
   ]
  },
  {
   "cell_type": "code",
   "execution_count": 8,
   "id": "9728f514-fea8-4d8a-a804-03b581bc3e45",
   "metadata": {
    "execution": {
     "iopub.execute_input": "2021-08-02T08:02:20.189186Z",
     "iopub.status.busy": "2021-08-02T08:02:20.189186Z",
     "iopub.status.idle": "2021-08-02T08:02:20.265742Z",
     "shell.execute_reply": "2021-08-02T08:02:20.264769Z",
     "shell.execute_reply.started": "2021-08-02T08:02:20.189186Z"
    },
    "tags": []
   },
   "outputs": [
    {
     "data": {
      "text/html": [
       "<div>\n",
       "<style scoped>\n",
       "    .dataframe tbody tr th:only-of-type {\n",
       "        vertical-align: middle;\n",
       "    }\n",
       "\n",
       "    .dataframe tbody tr th {\n",
       "        vertical-align: top;\n",
       "    }\n",
       "\n",
       "    .dataframe thead th {\n",
       "        text-align: right;\n",
       "    }\n",
       "</style>\n",
       "<table border=\"1\" class=\"dataframe\">\n",
       "  <thead>\n",
       "    <tr style=\"text-align: right;\">\n",
       "      <th></th>\n",
       "      <th>old_index</th>\n",
       "      <th>adult</th>\n",
       "      <th>belongs_to_collection</th>\n",
       "      <th>budget</th>\n",
       "      <th>genres</th>\n",
       "      <th>homepage</th>\n",
       "      <th>id</th>\n",
       "      <th>imdb_id</th>\n",
       "      <th>original_language</th>\n",
       "      <th>original_title</th>\n",
       "      <th>...</th>\n",
       "      <th>release_date</th>\n",
       "      <th>revenue</th>\n",
       "      <th>runtime</th>\n",
       "      <th>spoken_languages</th>\n",
       "      <th>status</th>\n",
       "      <th>tagline</th>\n",
       "      <th>title</th>\n",
       "      <th>video</th>\n",
       "      <th>vote_average</th>\n",
       "      <th>vote_count</th>\n",
       "    </tr>\n",
       "  </thead>\n",
       "  <tbody>\n",
       "    <tr>\n",
       "      <th>0</th>\n",
       "      <td>7654</td>\n",
       "      <td>False</td>\n",
       "      <td>NaN</td>\n",
       "      <td>0</td>\n",
       "      <td>[{'id': 36, 'name': 'History'}, {'id': 35, 'na...</td>\n",
       "      <td>NaN</td>\n",
       "      <td>56167</td>\n",
       "      <td>tt0044487</td>\n",
       "      <td>it</td>\n",
       "      <td>Le Carrosse d'or</td>\n",
       "      <td>...</td>\n",
       "      <td>1952-12-05</td>\n",
       "      <td>0.0</td>\n",
       "      <td>103.0</td>\n",
       "      <td>[{'iso_639_1': 'en', 'name': 'English'}, {'iso...</td>\n",
       "      <td>Released</td>\n",
       "      <td>NaN</td>\n",
       "      <td>The Golden Coach</td>\n",
       "      <td>False</td>\n",
       "      <td>7.3</td>\n",
       "      <td>13.0</td>\n",
       "    </tr>\n",
       "    <tr>\n",
       "      <th>1</th>\n",
       "      <td>2233</td>\n",
       "      <td>False</td>\n",
       "      <td>{'id': 374384, 'name': 'Stepford Collection', ...</td>\n",
       "      <td>0</td>\n",
       "      <td>[{'id': 27, 'name': 'Horror'}, {'id': 9648, 'n...</td>\n",
       "      <td>NaN</td>\n",
       "      <td>12223</td>\n",
       "      <td>tt0073747</td>\n",
       "      <td>en</td>\n",
       "      <td>The Stepford Wives</td>\n",
       "      <td>...</td>\n",
       "      <td>1975-02-12</td>\n",
       "      <td>0.0</td>\n",
       "      <td>117.0</td>\n",
       "      <td>[{'iso_639_1': 'en', 'name': 'English'}]</td>\n",
       "      <td>Released</td>\n",
       "      <td>Something strange is happening in the town of ...</td>\n",
       "      <td>The Stepford Wives</td>\n",
       "      <td>False</td>\n",
       "      <td>6.7</td>\n",
       "      <td>79.0</td>\n",
       "    </tr>\n",
       "    <tr>\n",
       "      <th>2</th>\n",
       "      <td>37093</td>\n",
       "      <td>False</td>\n",
       "      <td>NaN</td>\n",
       "      <td>0</td>\n",
       "      <td>[{'id': 27, 'name': 'Horror'}]</td>\n",
       "      <td>NaN</td>\n",
       "      <td>77257</td>\n",
       "      <td>tt0071478</td>\n",
       "      <td>es</td>\n",
       "      <td>Exorcismo</td>\n",
       "      <td>...</td>\n",
       "      <td>1975-03-10</td>\n",
       "      <td>0.0</td>\n",
       "      <td>90.0</td>\n",
       "      <td>[{'iso_639_1': 'es', 'name': 'Español'}]</td>\n",
       "      <td>Released</td>\n",
       "      <td>A theme that has thrilled audiences all over t...</td>\n",
       "      <td>Exorcismo</td>\n",
       "      <td>False</td>\n",
       "      <td>7.5</td>\n",
       "      <td>2.0</td>\n",
       "    </tr>\n",
       "    <tr>\n",
       "      <th>3</th>\n",
       "      <td>5792</td>\n",
       "      <td>False</td>\n",
       "      <td>NaN</td>\n",
       "      <td>0</td>\n",
       "      <td>[{'id': 9648, 'name': 'Mystery'}, {'id': 18, '...</td>\n",
       "      <td>NaN</td>\n",
       "      <td>73116</td>\n",
       "      <td>tt0083693</td>\n",
       "      <td>en</td>\n",
       "      <td>Brimstone &amp; Treacle</td>\n",
       "      <td>...</td>\n",
       "      <td>1982-10-01</td>\n",
       "      <td>0.0</td>\n",
       "      <td>87.0</td>\n",
       "      <td>[{'iso_639_1': 'en', 'name': 'English'}]</td>\n",
       "      <td>Released</td>\n",
       "      <td>NaN</td>\n",
       "      <td>Brimstone &amp; Treacle</td>\n",
       "      <td>False</td>\n",
       "      <td>6.8</td>\n",
       "      <td>8.0</td>\n",
       "    </tr>\n",
       "    <tr>\n",
       "      <th>4</th>\n",
       "      <td>35119</td>\n",
       "      <td>False</td>\n",
       "      <td>NaN</td>\n",
       "      <td>0</td>\n",
       "      <td>[{'id': 28, 'name': 'Action'}, {'id': 12, 'nam...</td>\n",
       "      <td>NaN</td>\n",
       "      <td>17223</td>\n",
       "      <td>tt0867205</td>\n",
       "      <td>en</td>\n",
       "      <td>Two Tigers</td>\n",
       "      <td>...</td>\n",
       "      <td>2007-02-14</td>\n",
       "      <td>0.0</td>\n",
       "      <td>0.0</td>\n",
       "      <td>[{'iso_639_1': 'it', 'name': 'Italiano'}]</td>\n",
       "      <td>Released</td>\n",
       "      <td>NaN</td>\n",
       "      <td>Two Tigers</td>\n",
       "      <td>False</td>\n",
       "      <td>3.5</td>\n",
       "      <td>2.0</td>\n",
       "    </tr>\n",
       "  </tbody>\n",
       "</table>\n",
       "<p>5 rows × 25 columns</p>\n",
       "</div>"
      ],
      "text/plain": [
       "   old_index  adult                              belongs_to_collection budget  \\\n",
       "0       7654  False                                                NaN      0   \n",
       "1       2233  False  {'id': 374384, 'name': 'Stepford Collection', ...      0   \n",
       "2      37093  False                                                NaN      0   \n",
       "3       5792  False                                                NaN      0   \n",
       "4      35119  False                                                NaN      0   \n",
       "\n",
       "                                              genres homepage     id  \\\n",
       "0  [{'id': 36, 'name': 'History'}, {'id': 35, 'na...      NaN  56167   \n",
       "1  [{'id': 27, 'name': 'Horror'}, {'id': 9648, 'n...      NaN  12223   \n",
       "2                     [{'id': 27, 'name': 'Horror'}]      NaN  77257   \n",
       "3  [{'id': 9648, 'name': 'Mystery'}, {'id': 18, '...      NaN  73116   \n",
       "4  [{'id': 28, 'name': 'Action'}, {'id': 12, 'nam...      NaN  17223   \n",
       "\n",
       "     imdb_id original_language       original_title  ... release_date revenue  \\\n",
       "0  tt0044487                it     Le Carrosse d'or  ...   1952-12-05     0.0   \n",
       "1  tt0073747                en   The Stepford Wives  ...   1975-02-12     0.0   \n",
       "2  tt0071478                es            Exorcismo  ...   1975-03-10     0.0   \n",
       "3  tt0083693                en  Brimstone & Treacle  ...   1982-10-01     0.0   \n",
       "4  tt0867205                en           Two Tigers  ...   2007-02-14     0.0   \n",
       "\n",
       "  runtime                                   spoken_languages    status  \\\n",
       "0   103.0  [{'iso_639_1': 'en', 'name': 'English'}, {'iso...  Released   \n",
       "1   117.0           [{'iso_639_1': 'en', 'name': 'English'}]  Released   \n",
       "2    90.0           [{'iso_639_1': 'es', 'name': 'Español'}]  Released   \n",
       "3    87.0           [{'iso_639_1': 'en', 'name': 'English'}]  Released   \n",
       "4     0.0          [{'iso_639_1': 'it', 'name': 'Italiano'}]  Released   \n",
       "\n",
       "                                             tagline                title  \\\n",
       "0                                                NaN     The Golden Coach   \n",
       "1  Something strange is happening in the town of ...   The Stepford Wives   \n",
       "2  A theme that has thrilled audiences all over t...            Exorcismo   \n",
       "3                                                NaN  Brimstone & Treacle   \n",
       "4                                                NaN           Two Tigers   \n",
       "\n",
       "   video vote_average vote_count  \n",
       "0  False          7.3       13.0  \n",
       "1  False          6.7       79.0  \n",
       "2  False          7.5        2.0  \n",
       "3  False          6.8        8.0  \n",
       "4  False          3.5        2.0  \n",
       "\n",
       "[5 rows x 25 columns]"
      ]
     },
     "execution_count": 8,
     "metadata": {},
     "output_type": "execute_result"
    }
   ],
   "source": [
    "metadata_sampled = metadata.copy().sample(20000, random_state=10)\n",
    "metadata_sampled = metadata_sampled.reset_index().rename(columns={'index': 'old_index'})\n",
    "metadata_sampled.head(5)"
   ]
  },
  {
   "cell_type": "code",
   "execution_count": 9,
   "id": "69139a32-4209-473c-961f-130d50dcb302",
   "metadata": {
    "execution": {
     "iopub.execute_input": "2021-08-02T08:02:20.266420Z",
     "iopub.status.busy": "2021-08-02T08:02:20.266420Z",
     "iopub.status.idle": "2021-08-02T08:02:20.713076Z",
     "shell.execute_reply": "2021-08-02T08:02:20.712576Z",
     "shell.execute_reply.started": "2021-08-02T08:02:20.266420Z"
    },
    "tags": []
   },
   "outputs": [],
   "source": [
    "metadata_sampled.to_csv('data/metadata_sampled.csv', index=False)"
   ]
  },
  {
   "cell_type": "code",
   "execution_count": 10,
   "id": "896398a7-a383-4fdb-94e5-48f0c5b868db",
   "metadata": {
    "execution": {
     "iopub.execute_input": "2021-08-02T08:02:20.713821Z",
     "iopub.status.busy": "2021-08-02T08:02:20.713821Z",
     "iopub.status.idle": "2021-08-02T08:02:20.729550Z",
     "shell.execute_reply": "2021-08-02T08:02:20.728310Z",
     "shell.execute_reply.started": "2021-08-02T08:02:20.713821Z"
    },
    "tags": []
   },
   "outputs": [],
   "source": [
    "overview = metadata_sampled['overview']"
   ]
  },
  {
   "cell_type": "markdown",
   "id": "6cb040d7-80e0-45e5-93df-5f66076d533b",
   "metadata": {},
   "source": [
    "Calculate the `TF-IDF` of `overfiew`"
   ]
  },
  {
   "cell_type": "code",
   "execution_count": 11,
   "id": "37b38f51-0eb8-486a-b2cc-d99e1e342615",
   "metadata": {
    "execution": {
     "iopub.execute_input": "2021-08-02T08:02:20.730553Z",
     "iopub.status.busy": "2021-08-02T08:02:20.730553Z",
     "iopub.status.idle": "2021-08-02T08:02:20.744554Z",
     "shell.execute_reply": "2021-08-02T08:02:20.743554Z",
     "shell.execute_reply.started": "2021-08-02T08:02:20.730553Z"
    },
    "tags": []
   },
   "outputs": [
    {
     "data": {
      "text/plain": [
       "TfidfVectorizer(stop_words='english')"
      ]
     },
     "execution_count": 11,
     "metadata": {},
     "output_type": "execute_result"
    }
   ],
   "source": [
    "tfidf = TfidfVectorizer(stop_words='english')\n",
    "tfidf"
   ]
  },
  {
   "cell_type": "code",
   "execution_count": 12,
   "id": "f019b944-aabf-4627-bdc1-647a47c4b176",
   "metadata": {
    "execution": {
     "iopub.execute_input": "2021-08-02T08:02:20.746726Z",
     "iopub.status.busy": "2021-08-02T08:02:20.746289Z",
     "iopub.status.idle": "2021-08-02T08:02:20.759512Z",
     "shell.execute_reply": "2021-08-02T08:02:20.759012Z",
     "shell.execute_reply.started": "2021-08-02T08:02:20.746289Z"
    },
    "tags": []
   },
   "outputs": [
    {
     "data": {
      "text/plain": [
       "406"
      ]
     },
     "execution_count": 12,
     "metadata": {},
     "output_type": "execute_result"
    }
   ],
   "source": [
    "overview.isna().sum()"
   ]
  },
  {
   "cell_type": "code",
   "execution_count": 13,
   "id": "fb0ab416-de53-4c15-b917-59090e6e4bee",
   "metadata": {
    "execution": {
     "iopub.execute_input": "2021-08-02T08:02:20.760518Z",
     "iopub.status.busy": "2021-08-02T08:02:20.760518Z",
     "iopub.status.idle": "2021-08-02T08:02:20.774553Z",
     "shell.execute_reply": "2021-08-02T08:02:20.774553Z",
     "shell.execute_reply.started": "2021-08-02T08:02:20.760518Z"
    },
    "tags": []
   },
   "outputs": [],
   "source": [
    "overview.fillna('', inplace=True)"
   ]
  },
  {
   "cell_type": "code",
   "execution_count": 14,
   "id": "164b6648-d376-4068-8959-e2942095d2c8",
   "metadata": {
    "execution": {
     "iopub.execute_input": "2021-08-02T08:02:20.777470Z",
     "iopub.status.busy": "2021-08-02T08:02:20.776712Z",
     "iopub.status.idle": "2021-08-02T08:02:21.814292Z",
     "shell.execute_reply": "2021-08-02T08:02:21.813300Z",
     "shell.execute_reply.started": "2021-08-02T08:02:20.776712Z"
    },
    "tags": []
   },
   "outputs": [
    {
     "name": "stdout",
     "output_type": "stream",
     "text": [
      "Wall time: 1.02 s\n"
     ]
    },
    {
     "data": {
      "text/plain": [
       "(20000, 50236)"
      ]
     },
     "execution_count": 14,
     "metadata": {},
     "output_type": "execute_result"
    }
   ],
   "source": [
    "%%time\n",
    "\n",
    "tfidf_matrix = tfidf.fit_transform(overview)\n",
    "tfidf_matrix.shape"
   ]
  },
  {
   "cell_type": "markdown",
   "id": "70c585ae-9c3b-4452-95d4-0d6b6a35e9cd",
   "metadata": {},
   "source": [
    "Example of some word in `tfidf`"
   ]
  },
  {
   "cell_type": "code",
   "execution_count": 15,
   "id": "9a408c26-6bce-444b-8155-f138bec22612",
   "metadata": {
    "execution": {
     "iopub.execute_input": "2021-08-02T08:02:21.815292Z",
     "iopub.status.busy": "2021-08-02T08:02:21.815292Z",
     "iopub.status.idle": "2021-08-02T08:02:21.860090Z",
     "shell.execute_reply": "2021-08-02T08:02:21.860090Z",
     "shell.execute_reply.started": "2021-08-02T08:02:21.815292Z"
    },
    "tags": []
   },
   "outputs": [
    {
     "data": {
      "text/plain": [
       "['activates',\n",
       " 'active',\n",
       " 'actively',\n",
       " 'activism',\n",
       " 'activist',\n",
       " 'activists',\n",
       " 'activities',\n",
       " 'activity',\n",
       " 'activités',\n",
       " 'actor',\n",
       " 'actors',\n",
       " 'actress',\n",
       " 'actresses',\n",
       " 'acts',\n",
       " 'actt',\n",
       " 'actual',\n",
       " 'actuality',\n",
       " 'actualization',\n",
       " 'actually',\n",
       " 'acumen']"
      ]
     },
     "execution_count": 15,
     "metadata": {},
     "output_type": "execute_result"
    }
   ],
   "source": [
    "tfidf.get_feature_names()[1000:1020]"
   ]
  },
  {
   "cell_type": "markdown",
   "id": "9e1a9dd4-7485-4c15-a85a-12071442fb94",
   "metadata": {},
   "source": [
    "**cosine similarity** calculate a numeric that denotes the similarity between two movies.\n",
    "\n",
    "$\\mathbf{\\cos}(\\mathbf{x}, \\mathbf{y}) = \\dfrac{\\mathbf{x} \\cdot \\mathbf{y}^\\intercal}{\\left\\Vert \\mathbf{x} \\right\\Vert \\cdot \\left\\Vert \\mathbf{y} \\right\\Vert} = \\dfrac{\\sum_{i=1}^{n} \\mathbf{x}_i \\cdot \\mathbf{y}^\\intercal\n",
    "}{\\sqrt{\\sum_{i=1}^{n} (\\mathbf{x}_i)^2}\\sqrt{\\sum_{i=1}^{n} (\\mathbf{y}_i)^2}}$"
   ]
  },
  {
   "cell_type": "markdown",
   "id": "b68d7c44-89be-4a26-b757-a330b2fb7405",
   "metadata": {},
   "source": [
    "### Calculate Cosine similarity using Overview"
   ]
  },
  {
   "cell_type": "code",
   "execution_count": 16,
   "id": "bb3a437f-e167-46fd-81b6-d036c53e0d77",
   "metadata": {
    "execution": {
     "iopub.execute_input": "2021-08-02T08:02:21.861092Z",
     "iopub.status.busy": "2021-08-02T08:02:21.861092Z",
     "iopub.status.idle": "2021-08-02T08:02:24.842969Z",
     "shell.execute_reply": "2021-08-02T08:02:24.841967Z",
     "shell.execute_reply.started": "2021-08-02T08:02:21.861092Z"
    },
    "tags": []
   },
   "outputs": [
    {
     "name": "stdout",
     "output_type": "stream",
     "text": [
      "Wall time: 2.97 s\n"
     ]
    },
    {
     "data": {
      "text/plain": [
       "(20000, 20000)"
      ]
     },
     "execution_count": 16,
     "metadata": {},
     "output_type": "execute_result"
    }
   ],
   "source": [
    "%%time\n",
    "\n",
    "cosine_sim = cosine_similarity(tfidf_matrix, tfidf_matrix)\n",
    "cosine_sim.shape"
   ]
  },
  {
   "cell_type": "code",
   "execution_count": 17,
   "id": "f67e2c45-3fa6-43e6-b2a9-96cc0fe4084f",
   "metadata": {
    "execution": {
     "iopub.execute_input": "2021-08-02T08:02:24.844958Z",
     "iopub.status.busy": "2021-08-02T08:02:24.844958Z",
     "iopub.status.idle": "2021-08-02T08:02:24.858211Z",
     "shell.execute_reply": "2021-08-02T08:02:24.857217Z",
     "shell.execute_reply.started": "2021-08-02T08:02:24.844958Z"
    },
    "tags": []
   },
   "outputs": [
    {
     "data": {
      "text/plain": [
       "array([0.        , 1.        , 0.        , ..., 0.        , 0.        ,\n",
       "       0.02206402])"
      ]
     },
     "execution_count": 17,
     "metadata": {},
     "output_type": "execute_result"
    }
   ],
   "source": [
    "cosine_sim[1]"
   ]
  },
  {
   "cell_type": "markdown",
   "id": "7148b917-55cc-4aa1-9d06-4e966c939ded",
   "metadata": {},
   "source": [
    "Created a dataframe to map index with title of a movie"
   ]
  },
  {
   "cell_type": "code",
   "execution_count": 18,
   "id": "2305c5d6-6486-4946-903f-27d8d349c8e2",
   "metadata": {
    "execution": {
     "iopub.execute_input": "2021-08-02T08:02:24.860219Z",
     "iopub.status.busy": "2021-08-02T08:02:24.859214Z",
     "iopub.status.idle": "2021-08-02T08:02:24.888212Z",
     "shell.execute_reply": "2021-08-02T08:02:24.888212Z",
     "shell.execute_reply.started": "2021-08-02T08:02:24.860219Z"
    },
    "tags": []
   },
   "outputs": [
    {
     "data": {
      "text/plain": [
       "title\n",
       "The Golden Coach           0\n",
       "The Stepford Wives         1\n",
       "Exorcismo                  2\n",
       "Brimstone & Treacle        3\n",
       "Two Tigers                 4\n",
       "                       ...  \n",
       "Fire                   19995\n",
       "Voyager                19996\n",
       "Adam                   19997\n",
       "Vabank II              19998\n",
       "Tinpis Run             19999\n",
       "Length: 20000, dtype: int64"
      ]
     },
     "execution_count": 18,
     "metadata": {},
     "output_type": "execute_result"
    }
   ],
   "source": [
    "indices = pd.Series(metadata_sampled.index, index=metadata_sampled['title'])\n",
    "indices"
   ]
  },
  {
   "cell_type": "code",
   "execution_count": 19,
   "id": "59b9155d-04c6-430f-a886-14728a14e32e",
   "metadata": {
    "execution": {
     "iopub.execute_input": "2021-08-02T08:02:24.889211Z",
     "iopub.status.busy": "2021-08-02T08:02:24.889211Z",
     "iopub.status.idle": "2021-08-02T08:02:24.935353Z",
     "shell.execute_reply": "2021-08-02T08:02:24.934352Z",
     "shell.execute_reply.started": "2021-08-02T08:02:24.889211Z"
    },
    "tags": []
   },
   "outputs": [],
   "source": [
    "indices.to_csv('data/movies_sample_title.csv')"
   ]
  },
  {
   "cell_type": "code",
   "execution_count": 20,
   "id": "da7b7ee3-1e57-4271-820d-f80d18021457",
   "metadata": {
    "execution": {
     "iopub.execute_input": "2021-08-02T08:02:24.936352Z",
     "iopub.status.busy": "2021-08-02T08:02:24.936352Z",
     "iopub.status.idle": "2021-08-02T08:02:24.949588Z",
     "shell.execute_reply": "2021-08-02T08:02:24.949588Z",
     "shell.execute_reply.started": "2021-08-02T08:02:24.936352Z"
    },
    "tags": []
   },
   "outputs": [],
   "source": [
    "def get_recommendation(title, cosine_sim=cosine_sim):\n",
    "    \n",
    "    try:\n",
    "        idx = indices[title]\n",
    "    except:\n",
    "        print(f\"No movies has title '{title}' in database!\")\n",
    "        return\n",
    "    \n",
    "    sim_scores = list(enumerate(cosine_sim[idx]))\n",
    "    \n",
    "    # sort decending\n",
    "    sim_scores = sorted(sim_scores, key=lambda x: x[1], reverse=True)\n",
    "    \n",
    "    # remove the first one, the first one is that title\n",
    "    # get top 10\n",
    "    sim_scores = sim_scores[1:11]\n",
    "    \n",
    "    movie_indices = [i[0] for i in sim_scores]\n",
    "    \n",
    "    return metadata_sampled['title'].loc[movie_indices]"
   ]
  },
  {
   "cell_type": "code",
   "execution_count": 21,
   "id": "00bfca11-1a4b-4e23-ab4f-6a3e261086a3",
   "metadata": {
    "execution": {
     "iopub.execute_input": "2021-08-02T08:02:24.951583Z",
     "iopub.status.busy": "2021-08-02T08:02:24.951583Z",
     "iopub.status.idle": "2021-08-02T08:02:24.998580Z",
     "shell.execute_reply": "2021-08-02T08:02:24.997580Z",
     "shell.execute_reply.started": "2021-08-02T08:02:24.951583Z"
    },
    "tags": []
   },
   "outputs": [
    {
     "data": {
      "text/plain": [
       "12497       Intimate Strangers\n",
       "9757                     Oasis\n",
       "1612     Brave Hearts: Umizaru\n",
       "3971             Dead Men Tell\n",
       "6564                Death Ship\n",
       "12819              Road to Rio\n",
       "1305           Going Overboard\n",
       "18643               Ghost Ship\n",
       "6484        The Legend of 1900\n",
       "373                   Area 407\n",
       "Name: title, dtype: object"
      ]
     },
     "execution_count": 21,
     "metadata": {},
     "output_type": "execute_result"
    }
   ],
   "source": [
    "get_recommendation('Voyager')"
   ]
  },
  {
   "cell_type": "markdown",
   "id": "5dbf3e7d-a6c2-47bd-8f5a-b19a352aabd2",
   "metadata": {},
   "source": [
    "### Another way to calculate Cosine Similarity: using keywords, director, cast, genres"
   ]
  },
  {
   "cell_type": "code",
   "execution_count": 22,
   "id": "66776224-767b-4c7b-b103-5ac80891ae37",
   "metadata": {
    "execution": {
     "iopub.execute_input": "2021-08-02T08:02:24.999581Z",
     "iopub.status.busy": "2021-08-02T08:02:24.999581Z",
     "iopub.status.idle": "2021-08-02T08:02:26.060460Z",
     "shell.execute_reply": "2021-08-02T08:02:26.059457Z",
     "shell.execute_reply.started": "2021-08-02T08:02:24.999581Z"
    },
    "tags": []
   },
   "outputs": [],
   "source": [
    "credits = pd.read_csv('data/credits_sampled.csv')\n",
    "keywords = pd.read_csv('data/keywords_sampled.csv')"
   ]
  },
  {
   "cell_type": "code",
   "execution_count": 23,
   "id": "f73f5190-6704-4b35-b12b-1efcae5ea0e8",
   "metadata": {
    "execution": {
     "iopub.execute_input": "2021-08-02T08:02:26.061458Z",
     "iopub.status.busy": "2021-08-02T08:02:26.061458Z",
     "iopub.status.idle": "2021-08-02T08:02:26.091858Z",
     "shell.execute_reply": "2021-08-02T08:02:26.090861Z",
     "shell.execute_reply.started": "2021-08-02T08:02:26.061458Z"
    },
    "tags": []
   },
   "outputs": [
    {
     "name": "stdout",
     "output_type": "stream",
     "text": [
      "<class 'pandas.core.frame.DataFrame'>\n",
      "RangeIndex: 20001 entries, 0 to 20000\n",
      "Data columns (total 3 columns):\n",
      " #   Column  Non-Null Count  Dtype \n",
      "---  ------  --------------  ----- \n",
      " 0   cast    20001 non-null  object\n",
      " 1   crew    20001 non-null  object\n",
      " 2   id      20001 non-null  int64 \n",
      "dtypes: int64(1), object(2)\n",
      "memory usage: 468.9+ KB\n"
     ]
    }
   ],
   "source": [
    "credits.info()"
   ]
  },
  {
   "cell_type": "code",
   "execution_count": 24,
   "id": "be8efcea-f236-4d9d-9a6a-4d8a39804194",
   "metadata": {
    "execution": {
     "iopub.execute_input": "2021-08-02T08:02:26.092861Z",
     "iopub.status.busy": "2021-08-02T08:02:26.091858Z",
     "iopub.status.idle": "2021-08-02T08:02:26.106858Z",
     "shell.execute_reply": "2021-08-02T08:02:26.106858Z",
     "shell.execute_reply.started": "2021-08-02T08:02:26.092861Z"
    },
    "tags": []
   },
   "outputs": [
    {
     "name": "stdout",
     "output_type": "stream",
     "text": [
      "<class 'pandas.core.frame.DataFrame'>\n",
      "RangeIndex: 19997 entries, 0 to 19996\n",
      "Data columns (total 2 columns):\n",
      " #   Column    Non-Null Count  Dtype \n",
      "---  ------    --------------  ----- \n",
      " 0   id        19997 non-null  int64 \n",
      " 1   keywords  19997 non-null  object\n",
      "dtypes: int64(1), object(1)\n",
      "memory usage: 312.6+ KB\n"
     ]
    }
   ],
   "source": [
    "keywords.info()"
   ]
  },
  {
   "cell_type": "code",
   "execution_count": 25,
   "id": "69e660b3-f181-4314-83e6-8a03681d5573",
   "metadata": {
    "execution": {
     "iopub.execute_input": "2021-08-02T08:02:26.111858Z",
     "iopub.status.busy": "2021-08-02T08:02:26.110858Z",
     "iopub.status.idle": "2021-08-02T08:02:26.123701Z",
     "shell.execute_reply": "2021-08-02T08:02:26.122742Z",
     "shell.execute_reply.started": "2021-08-02T08:02:26.111858Z"
    },
    "tags": []
   },
   "outputs": [],
   "source": [
    "credits['id'] = credits['id'].astype('int')\n",
    "keywords['id'] = keywords['id'].astype('int')"
   ]
  },
  {
   "cell_type": "code",
   "execution_count": 26,
   "id": "41584071-46f3-4903-80bb-17ac1d193205",
   "metadata": {
    "execution": {
     "iopub.execute_input": "2021-08-02T08:02:26.124701Z",
     "iopub.status.busy": "2021-08-02T08:02:26.124701Z",
     "iopub.status.idle": "2021-08-02T08:02:26.217964Z",
     "shell.execute_reply": "2021-08-02T08:02:26.217964Z",
     "shell.execute_reply.started": "2021-08-02T08:02:26.124701Z"
    },
    "tags": []
   },
   "outputs": [],
   "source": [
    "metadata_sampled = metadata_sampled.merge(credits, on='id')\n",
    "metadata_sampled = metadata_sampled.merge(keywords, on='id')"
   ]
  },
  {
   "cell_type": "markdown",
   "id": "d109e543-eec5-4648-bcc9-0ed972b30171",
   "metadata": {},
   "source": [
    "Parse from string to Python object"
   ]
  },
  {
   "cell_type": "code",
   "execution_count": 27,
   "id": "f2da2b1b-ebfd-4681-8fc4-a37e9b14a5df",
   "metadata": {
    "execution": {
     "iopub.execute_input": "2021-08-02T08:02:26.218970Z",
     "iopub.status.busy": "2021-08-02T08:02:26.218970Z",
     "iopub.status.idle": "2021-08-02T08:02:40.192172Z",
     "shell.execute_reply": "2021-08-02T08:02:40.191172Z",
     "shell.execute_reply.started": "2021-08-02T08:02:26.218970Z"
    },
    "tags": []
   },
   "outputs": [
    {
     "name": "stdout",
     "output_type": "stream",
     "text": [
      "Wall time: 14 s\n"
     ]
    }
   ],
   "source": [
    "%%time\n",
    "\n",
    "features = ['cast', 'crew', 'keywords', 'genres']\n",
    "\n",
    "for feature in features:\n",
    "    metadata_sampled[feature] = metadata_sampled[feature].apply(literal_eval)"
   ]
  },
  {
   "cell_type": "code",
   "execution_count": 28,
   "id": "94142b5a-8341-4910-bd62-c1b66fd1edc4",
   "metadata": {
    "execution": {
     "iopub.execute_input": "2021-08-02T08:02:40.194171Z",
     "iopub.status.busy": "2021-08-02T08:02:40.193172Z",
     "iopub.status.idle": "2021-08-02T08:02:40.222437Z",
     "shell.execute_reply": "2021-08-02T08:02:40.221410Z",
     "shell.execute_reply.started": "2021-08-02T08:02:40.194171Z"
    },
    "tags": []
   },
   "outputs": [
    {
     "data": {
      "text/plain": [
       "[{'cast_id': 2,\n",
       "  'character': 'Camilla',\n",
       "  'credit_id': '52fe48f2c3a36847f8181b15',\n",
       "  'gender': 1,\n",
       "  'id': 4421,\n",
       "  'name': 'Anna Magnani',\n",
       "  'order': 0,\n",
       "  'profile_path': '/ygpE4VtT0TtrF2mfceJBT8u2Nhh.jpg'},\n",
       " {'cast_id': 3,\n",
       "  'character': 'Don Antonio',\n",
       "  'credit_id': '52fe48f2c3a36847f8181b19',\n",
       "  'gender': 0,\n",
       "  'id': 85861,\n",
       "  'name': 'Odoardo Spadaro',\n",
       "  'order': 1,\n",
       "  'profile_path': None},\n",
       " {'cast_id': 4,\n",
       "  'character': 'Isabella',\n",
       "  'credit_id': '52fe48f2c3a36847f8181b1d',\n",
       "  'gender': 0,\n",
       "  'id': 1112933,\n",
       "  'name': 'Nada Fiorelli',\n",
       "  'order': 2,\n",
       "  'profile_path': None},\n",
       " {'cast_id': 5,\n",
       "  'character': 'Arlequin',\n",
       "  'credit_id': '52fe48f2c3a36847f8181b21',\n",
       "  'gender': 0,\n",
       "  'id': 132838,\n",
       "  'name': 'Dante',\n",
       "  'order': 3,\n",
       "  'profile_path': '/mRBsRkw27vCVl9Q3owBnPn3mieH.jpg'},\n",
       " {'cast_id': 7,\n",
       "  'character': 'Ferdinand, Le Viceroy',\n",
       "  'credit_id': '552d7316c3a368618e005a01',\n",
       "  'gender': 2,\n",
       "  'id': 29659,\n",
       "  'name': 'Duncan Lamont',\n",
       "  'order': 4,\n",
       "  'profile_path': '/xIGr7HDfHlZoIB4K0amQO3uimoK.jpg'},\n",
       " {'cast_id': 8,\n",
       "  'character': 'Martinez',\n",
       "  'credit_id': '552d7343c3a36875010011c8',\n",
       "  'gender': 0,\n",
       "  'id': 1454254,\n",
       "  'name': 'George Higgins',\n",
       "  'order': 5,\n",
       "  'profile_path': None},\n",
       " {'cast_id': 9,\n",
       "  'character': 'Duc de Castro',\n",
       "  'credit_id': '552d7362c3a3686be20002e2',\n",
       "  'gender': 2,\n",
       "  'id': 89064,\n",
       "  'name': 'Ralph Truman',\n",
       "  'order': 6,\n",
       "  'profile_path': '/71Fi7w0CQKm8RVamcJE8DLORCed.jpg'},\n",
       " {'cast_id': 10,\n",
       "  'character': 'Marquise Irene Altamirano',\n",
       "  'credit_id': '552d7378c3a36875010011d7',\n",
       "  'gender': 0,\n",
       "  'id': 937516,\n",
       "  'name': 'Gisella Mathews',\n",
       "  'order': 7,\n",
       "  'profile_path': None},\n",
       " {'cast_id': 11,\n",
       "  'character': 'Le Procureur',\n",
       "  'credit_id': '552d7393c3a3686c4e000273',\n",
       "  'gender': 0,\n",
       "  'id': 134668,\n",
       "  'name': 'Raf De La Torre',\n",
       "  'order': 8,\n",
       "  'profile_path': None},\n",
       " {'cast_id': 12,\n",
       "  'character': 'Duchesse de Castro',\n",
       "  'credit_id': '552d73a8c3a3686201000b20',\n",
       "  'gender': 0,\n",
       "  'id': 974973,\n",
       "  'name': 'Elena Altieri',\n",
       "  'order': 9,\n",
       "  'profile_path': None},\n",
       " {'cast_id': 6,\n",
       "  'character': 'Felipe',\n",
       "  'credit_id': '54e664f0c3a3685af700022c',\n",
       "  'gender': 0,\n",
       "  'id': 1363526,\n",
       "  'name': 'Paul Campbell',\n",
       "  'order': 10,\n",
       "  'profile_path': None},\n",
       " {'cast_id': 13,\n",
       "  'character': 'Ramon, le Toreador',\n",
       "  'credit_id': '552d73d5c3a36875010011ee',\n",
       "  'gender': 0,\n",
       "  'id': 1454255,\n",
       "  'name': 'Riccardo Rioli',\n",
       "  'order': 11,\n",
       "  'profile_path': None},\n",
       " {'cast_id': 14,\n",
       "  'character': 'Aubergiste',\n",
       "  'credit_id': '552d73ec92514119610016ef',\n",
       "  'gender': 2,\n",
       "  'id': 2576,\n",
       "  'name': 'William Tubbs',\n",
       "  'order': 12,\n",
       "  'profile_path': None},\n",
       " {'cast_id': 15,\n",
       "  'character': 'Eveque de Carmol',\n",
       "  'credit_id': '552d74029251415998000611',\n",
       "  'gender': 0,\n",
       "  'id': 36209,\n",
       "  'name': 'Jean Debucourt',\n",
       "  'order': 13,\n",
       "  'profile_path': '/9V5IK7lHuuojCO0uHcziFMkERyO.jpg'}]"
      ]
     },
     "execution_count": 28,
     "metadata": {},
     "output_type": "execute_result"
    }
   ],
   "source": [
    "metadata_sampled['cast'][0]"
   ]
  },
  {
   "cell_type": "code",
   "execution_count": 29,
   "id": "70c5b2d1-ea86-46f1-acc1-5120d510b22c",
   "metadata": {
    "execution": {
     "iopub.execute_input": "2021-08-02T08:02:40.224504Z",
     "iopub.status.busy": "2021-08-02T08:02:40.223513Z",
     "iopub.status.idle": "2021-08-02T08:02:40.236975Z",
     "shell.execute_reply": "2021-08-02T08:02:40.236975Z",
     "shell.execute_reply.started": "2021-08-02T08:02:40.224504Z"
    },
    "tags": []
   },
   "outputs": [],
   "source": [
    "def get_director(x):\n",
    "    for i in x:\n",
    "        if i['job'] == 'Director':\n",
    "            return i['name']\n",
    "    return np.nan"
   ]
  },
  {
   "cell_type": "code",
   "execution_count": 30,
   "id": "1d3481b6-37e2-4d36-b880-113c4fc1644b",
   "metadata": {
    "execution": {
     "iopub.execute_input": "2021-08-02T08:02:40.237978Z",
     "iopub.status.busy": "2021-08-02T08:02:40.237978Z",
     "iopub.status.idle": "2021-08-02T08:02:40.253708Z",
     "shell.execute_reply": "2021-08-02T08:02:40.252882Z",
     "shell.execute_reply.started": "2021-08-02T08:02:40.237978Z"
    },
    "tags": []
   },
   "outputs": [],
   "source": [
    "def get_list(x):\n",
    "    if isinstance(x, list):\n",
    "        names = [i['name'] for i in x]\n",
    "        return names[:3]\n",
    "    return []"
   ]
  },
  {
   "cell_type": "code",
   "execution_count": 31,
   "id": "e1068bce-1a60-4820-ad16-207c25ac42f7",
   "metadata": {
    "execution": {
     "iopub.execute_input": "2021-08-02T08:02:40.254729Z",
     "iopub.status.busy": "2021-08-02T08:02:40.254729Z",
     "iopub.status.idle": "2021-08-02T08:02:40.284845Z",
     "shell.execute_reply": "2021-08-02T08:02:40.283870Z",
     "shell.execute_reply.started": "2021-08-02T08:02:40.254729Z"
    },
    "tags": []
   },
   "outputs": [],
   "source": [
    "metadata_sampled['director'] = metadata_sampled['crew'].apply(get_director)"
   ]
  },
  {
   "cell_type": "code",
   "execution_count": 32,
   "id": "59205d3d-9e7a-4e6c-ad03-8a4af4192ddd",
   "metadata": {
    "execution": {
     "iopub.execute_input": "2021-08-02T08:02:40.286783Z",
     "iopub.status.busy": "2021-08-02T08:02:40.285854Z",
     "iopub.status.idle": "2021-08-02T08:02:40.538900Z",
     "shell.execute_reply": "2021-08-02T08:02:40.538086Z",
     "shell.execute_reply.started": "2021-08-02T08:02:40.286783Z"
    },
    "tags": []
   },
   "outputs": [],
   "source": [
    "features = ['cast', 'keywords', 'genres']\n",
    "\n",
    "for feature in features:\n",
    "    metadata_sampled[feature] = metadata_sampled[feature].apply(get_list)"
   ]
  },
  {
   "cell_type": "code",
   "execution_count": 33,
   "id": "30e804c5-863b-4769-8995-77fa6dd34d6e",
   "metadata": {
    "execution": {
     "iopub.execute_input": "2021-08-02T08:02:40.540730Z",
     "iopub.status.busy": "2021-08-02T08:02:40.540730Z",
     "iopub.status.idle": "2021-08-02T08:02:40.585387Z",
     "shell.execute_reply": "2021-08-02T08:02:40.584387Z",
     "shell.execute_reply.started": "2021-08-02T08:02:40.540730Z"
    },
    "tags": []
   },
   "outputs": [
    {
     "data": {
      "text/html": [
       "<div>\n",
       "<style scoped>\n",
       "    .dataframe tbody tr th:only-of-type {\n",
       "        vertical-align: middle;\n",
       "    }\n",
       "\n",
       "    .dataframe tbody tr th {\n",
       "        vertical-align: top;\n",
       "    }\n",
       "\n",
       "    .dataframe thead th {\n",
       "        text-align: right;\n",
       "    }\n",
       "</style>\n",
       "<table border=\"1\" class=\"dataframe\">\n",
       "  <thead>\n",
       "    <tr style=\"text-align: right;\">\n",
       "      <th></th>\n",
       "      <th>title</th>\n",
       "      <th>cast</th>\n",
       "      <th>director</th>\n",
       "      <th>keywords</th>\n",
       "      <th>genres</th>\n",
       "    </tr>\n",
       "  </thead>\n",
       "  <tbody>\n",
       "    <tr>\n",
       "      <th>0</th>\n",
       "      <td>The Golden Coach</td>\n",
       "      <td>[Anna Magnani, Odoardo Spadaro, Nada Fiorelli]</td>\n",
       "      <td>Jean Renoir</td>\n",
       "      <td>[theater, latin america, acting]</td>\n",
       "      <td>[History, Comedy, Drama]</td>\n",
       "    </tr>\n",
       "    <tr>\n",
       "      <th>1</th>\n",
       "      <td>The Stepford Wives</td>\n",
       "      <td>[Katharine Ross, Paula Prentiss, Nanette Newman]</td>\n",
       "      <td>Bryan Forbes</td>\n",
       "      <td>[suspense, independent film, cult film]</td>\n",
       "      <td>[Horror, Mystery, Science Fiction]</td>\n",
       "    </tr>\n",
       "    <tr>\n",
       "      <th>2</th>\n",
       "      <td>Exorcismo</td>\n",
       "      <td>[Paul Naschy, Maria Perschy, María Kosty]</td>\n",
       "      <td>Juan Bosch</td>\n",
       "      <td>[female nudity, sex, nudity]</td>\n",
       "      <td>[Horror]</td>\n",
       "    </tr>\n",
       "    <tr>\n",
       "      <th>3</th>\n",
       "      <td>Brimstone &amp; Treacle</td>\n",
       "      <td>[Sting, Denholm Elliott, Joan Plowright]</td>\n",
       "      <td>Richard Loncraine</td>\n",
       "      <td>[gothic]</td>\n",
       "      <td>[Mystery, Drama, Horror]</td>\n",
       "    </tr>\n",
       "    <tr>\n",
       "      <th>4</th>\n",
       "      <td>Two Tigers</td>\n",
       "      <td>[Selena Khoo, Jay Natelle, Andrea Osvárt]</td>\n",
       "      <td>Sandro Cecca</td>\n",
       "      <td>[]</td>\n",
       "      <td>[Action, Adventure, Foreign]</td>\n",
       "    </tr>\n",
       "  </tbody>\n",
       "</table>\n",
       "</div>"
      ],
      "text/plain": [
       "                 title                                              cast  \\\n",
       "0     The Golden Coach    [Anna Magnani, Odoardo Spadaro, Nada Fiorelli]   \n",
       "1   The Stepford Wives  [Katharine Ross, Paula Prentiss, Nanette Newman]   \n",
       "2            Exorcismo         [Paul Naschy, Maria Perschy, María Kosty]   \n",
       "3  Brimstone & Treacle          [Sting, Denholm Elliott, Joan Plowright]   \n",
       "4           Two Tigers         [Selena Khoo, Jay Natelle, Andrea Osvárt]   \n",
       "\n",
       "            director                                 keywords  \\\n",
       "0        Jean Renoir         [theater, latin america, acting]   \n",
       "1       Bryan Forbes  [suspense, independent film, cult film]   \n",
       "2         Juan Bosch             [female nudity, sex, nudity]   \n",
       "3  Richard Loncraine                                 [gothic]   \n",
       "4       Sandro Cecca                                       []   \n",
       "\n",
       "                               genres  \n",
       "0            [History, Comedy, Drama]  \n",
       "1  [Horror, Mystery, Science Fiction]  \n",
       "2                            [Horror]  \n",
       "3            [Mystery, Drama, Horror]  \n",
       "4        [Action, Adventure, Foreign]  "
      ]
     },
     "execution_count": 33,
     "metadata": {},
     "output_type": "execute_result"
    }
   ],
   "source": [
    "metadata_sampled[['title', 'cast', 'director', 'keywords', 'genres']].head(5)"
   ]
  },
  {
   "cell_type": "code",
   "execution_count": 34,
   "id": "5d36ba15-6a84-41d3-8dba-9be0b20f4982",
   "metadata": {
    "execution": {
     "iopub.execute_input": "2021-08-02T08:02:40.586388Z",
     "iopub.status.busy": "2021-08-02T08:02:40.586388Z",
     "iopub.status.idle": "2021-08-02T08:02:40.599883Z",
     "shell.execute_reply": "2021-08-02T08:02:40.599883Z",
     "shell.execute_reply.started": "2021-08-02T08:02:40.586388Z"
    },
    "tags": []
   },
   "outputs": [],
   "source": [
    "def clean_data(x):\n",
    "    if isinstance(x, list):\n",
    "        return [i.replace(' ', '').lower() for i in x]\n",
    "    if isinstance(x, str):\n",
    "        return x.replace(' ', '').lower()\n",
    "    return ''"
   ]
  },
  {
   "cell_type": "code",
   "execution_count": 35,
   "id": "69760816-da37-45a5-a95b-bf7a3f197dcf",
   "metadata": {
    "execution": {
     "iopub.execute_input": "2021-08-02T08:02:40.601856Z",
     "iopub.status.busy": "2021-08-02T08:02:40.601856Z",
     "iopub.status.idle": "2021-08-02T08:02:40.774639Z",
     "shell.execute_reply": "2021-08-02T08:02:40.774639Z",
     "shell.execute_reply.started": "2021-08-02T08:02:40.601856Z"
    },
    "tags": []
   },
   "outputs": [],
   "source": [
    "features = ['cast', 'keywords', 'director', 'genres']\n",
    "\n",
    "for feature in features:\n",
    "    metadata_sampled[feature] = metadata_sampled[feature].apply(clean_data)"
   ]
  },
  {
   "cell_type": "code",
   "execution_count": 36,
   "id": "d05b6f2d-d49b-4eaa-a96b-ead20e26626e",
   "metadata": {
    "execution": {
     "iopub.execute_input": "2021-08-02T08:02:40.775659Z",
     "iopub.status.busy": "2021-08-02T08:02:40.775659Z",
     "iopub.status.idle": "2021-08-02T08:02:40.791399Z",
     "shell.execute_reply": "2021-08-02T08:02:40.790461Z",
     "shell.execute_reply.started": "2021-08-02T08:02:40.775659Z"
    },
    "tags": []
   },
   "outputs": [],
   "source": [
    "def create_soup(x):\n",
    "    features = ['keywords', 'cast', 'genres']\n",
    "    soup = x['director']\n",
    "    for feature in features:\n",
    "        soup += ' '.join(x[feature]) + ' '\n",
    "    return soup"
   ]
  },
  {
   "cell_type": "code",
   "execution_count": 37,
   "id": "78d54c30-24ab-4b88-8faa-9a3615618941",
   "metadata": {
    "execution": {
     "iopub.execute_input": "2021-08-02T08:02:40.793398Z",
     "iopub.status.busy": "2021-08-02T08:02:40.792397Z",
     "iopub.status.idle": "2021-08-02T08:02:41.171318Z",
     "shell.execute_reply": "2021-08-02T08:02:41.170405Z",
     "shell.execute_reply.started": "2021-08-02T08:02:40.793398Z"
    },
    "tags": []
   },
   "outputs": [],
   "source": [
    "metadata_sampled['soup'] = metadata_sampled.apply(create_soup, axis=1)"
   ]
  },
  {
   "cell_type": "code",
   "execution_count": 38,
   "id": "32c68904-d67a-49c4-a11b-8fc290fa7dc6",
   "metadata": {
    "execution": {
     "iopub.execute_input": "2021-08-02T08:02:41.172318Z",
     "iopub.status.busy": "2021-08-02T08:02:41.172318Z",
     "iopub.status.idle": "2021-08-02T08:02:41.218038Z",
     "shell.execute_reply": "2021-08-02T08:02:41.217542Z",
     "shell.execute_reply.started": "2021-08-02T08:02:41.172318Z"
    },
    "tags": []
   },
   "outputs": [
    {
     "data": {
      "text/html": [
       "<div>\n",
       "<style scoped>\n",
       "    .dataframe tbody tr th:only-of-type {\n",
       "        vertical-align: middle;\n",
       "    }\n",
       "\n",
       "    .dataframe tbody tr th {\n",
       "        vertical-align: top;\n",
       "    }\n",
       "\n",
       "    .dataframe thead th {\n",
       "        text-align: right;\n",
       "    }\n",
       "</style>\n",
       "<table border=\"1\" class=\"dataframe\">\n",
       "  <thead>\n",
       "    <tr style=\"text-align: right;\">\n",
       "      <th></th>\n",
       "      <th>old_index</th>\n",
       "      <th>adult</th>\n",
       "      <th>belongs_to_collection</th>\n",
       "      <th>budget</th>\n",
       "      <th>genres</th>\n",
       "      <th>homepage</th>\n",
       "      <th>id</th>\n",
       "      <th>imdb_id</th>\n",
       "      <th>original_language</th>\n",
       "      <th>original_title</th>\n",
       "      <th>...</th>\n",
       "      <th>tagline</th>\n",
       "      <th>title</th>\n",
       "      <th>video</th>\n",
       "      <th>vote_average</th>\n",
       "      <th>vote_count</th>\n",
       "      <th>cast</th>\n",
       "      <th>crew</th>\n",
       "      <th>keywords</th>\n",
       "      <th>director</th>\n",
       "      <th>soup</th>\n",
       "    </tr>\n",
       "  </thead>\n",
       "  <tbody>\n",
       "    <tr>\n",
       "      <th>0</th>\n",
       "      <td>7654</td>\n",
       "      <td>False</td>\n",
       "      <td>NaN</td>\n",
       "      <td>0</td>\n",
       "      <td>[history, comedy, drama]</td>\n",
       "      <td>NaN</td>\n",
       "      <td>56167</td>\n",
       "      <td>tt0044487</td>\n",
       "      <td>it</td>\n",
       "      <td>Le Carrosse d'or</td>\n",
       "      <td>...</td>\n",
       "      <td>NaN</td>\n",
       "      <td>The Golden Coach</td>\n",
       "      <td>False</td>\n",
       "      <td>7.3</td>\n",
       "      <td>13.0</td>\n",
       "      <td>[annamagnani, odoardospadaro, nadafiorelli]</td>\n",
       "      <td>[{'credit_id': '58a9b825c3a3680bc20094e5', 'de...</td>\n",
       "      <td>[theater, latinamerica, acting]</td>\n",
       "      <td>jeanrenoir</td>\n",
       "      <td>jeanrenoirtheater latinamerica acting annamagn...</td>\n",
       "    </tr>\n",
       "    <tr>\n",
       "      <th>1</th>\n",
       "      <td>2233</td>\n",
       "      <td>False</td>\n",
       "      <td>{'id': 374384, 'name': 'Stepford Collection', ...</td>\n",
       "      <td>0</td>\n",
       "      <td>[horror, mystery, sciencefiction]</td>\n",
       "      <td>NaN</td>\n",
       "      <td>12223</td>\n",
       "      <td>tt0073747</td>\n",
       "      <td>en</td>\n",
       "      <td>The Stepford Wives</td>\n",
       "      <td>...</td>\n",
       "      <td>Something strange is happening in the town of ...</td>\n",
       "      <td>The Stepford Wives</td>\n",
       "      <td>False</td>\n",
       "      <td>6.7</td>\n",
       "      <td>79.0</td>\n",
       "      <td>[katharineross, paulaprentiss, nanettenewman]</td>\n",
       "      <td>[{'credit_id': '52fe44cd9251416c7504166d', 'de...</td>\n",
       "      <td>[suspense, independentfilm, cultfilm]</td>\n",
       "      <td>bryanforbes</td>\n",
       "      <td>bryanforbessuspense independentfilm cultfilm k...</td>\n",
       "    </tr>\n",
       "    <tr>\n",
       "      <th>2</th>\n",
       "      <td>37093</td>\n",
       "      <td>False</td>\n",
       "      <td>NaN</td>\n",
       "      <td>0</td>\n",
       "      <td>[horror]</td>\n",
       "      <td>NaN</td>\n",
       "      <td>77257</td>\n",
       "      <td>tt0071478</td>\n",
       "      <td>es</td>\n",
       "      <td>Exorcismo</td>\n",
       "      <td>...</td>\n",
       "      <td>A theme that has thrilled audiences all over t...</td>\n",
       "      <td>Exorcismo</td>\n",
       "      <td>False</td>\n",
       "      <td>7.5</td>\n",
       "      <td>2.0</td>\n",
       "      <td>[paulnaschy, mariaperschy, maríakosty]</td>\n",
       "      <td>[{'credit_id': '52fe4964c3a368484e129173', 'de...</td>\n",
       "      <td>[femalenudity, sex, nudity]</td>\n",
       "      <td>juanbosch</td>\n",
       "      <td>juanboschfemalenudity sex nudity paulnaschy ma...</td>\n",
       "    </tr>\n",
       "    <tr>\n",
       "      <th>3</th>\n",
       "      <td>5792</td>\n",
       "      <td>False</td>\n",
       "      <td>NaN</td>\n",
       "      <td>0</td>\n",
       "      <td>[mystery, drama, horror]</td>\n",
       "      <td>NaN</td>\n",
       "      <td>73116</td>\n",
       "      <td>tt0083693</td>\n",
       "      <td>en</td>\n",
       "      <td>Brimstone &amp; Treacle</td>\n",
       "      <td>...</td>\n",
       "      <td>NaN</td>\n",
       "      <td>Brimstone &amp; Treacle</td>\n",
       "      <td>False</td>\n",
       "      <td>6.8</td>\n",
       "      <td>8.0</td>\n",
       "      <td>[sting, denholmelliott, joanplowright]</td>\n",
       "      <td>[{'credit_id': '52fe488dc3a368484e0fe971', 'de...</td>\n",
       "      <td>[gothic]</td>\n",
       "      <td>richardloncraine</td>\n",
       "      <td>richardloncrainegothic sting denholmelliott jo...</td>\n",
       "    </tr>\n",
       "    <tr>\n",
       "      <th>4</th>\n",
       "      <td>35119</td>\n",
       "      <td>False</td>\n",
       "      <td>NaN</td>\n",
       "      <td>0</td>\n",
       "      <td>[action, adventure, foreign]</td>\n",
       "      <td>NaN</td>\n",
       "      <td>17223</td>\n",
       "      <td>tt0867205</td>\n",
       "      <td>en</td>\n",
       "      <td>Two Tigers</td>\n",
       "      <td>...</td>\n",
       "      <td>NaN</td>\n",
       "      <td>Two Tigers</td>\n",
       "      <td>False</td>\n",
       "      <td>3.5</td>\n",
       "      <td>2.0</td>\n",
       "      <td>[selenakhoo, jaynatelle, andreaosvárt]</td>\n",
       "      <td>[{'credit_id': '52fe47119251416c7508cc03', 'de...</td>\n",
       "      <td>[]</td>\n",
       "      <td>sandrocecca</td>\n",
       "      <td>sandrocecca selenakhoo jaynatelle andreaosvárt...</td>\n",
       "    </tr>\n",
       "  </tbody>\n",
       "</table>\n",
       "<p>5 rows × 30 columns</p>\n",
       "</div>"
      ],
      "text/plain": [
       "   old_index  adult                              belongs_to_collection budget  \\\n",
       "0       7654  False                                                NaN      0   \n",
       "1       2233  False  {'id': 374384, 'name': 'Stepford Collection', ...      0   \n",
       "2      37093  False                                                NaN      0   \n",
       "3       5792  False                                                NaN      0   \n",
       "4      35119  False                                                NaN      0   \n",
       "\n",
       "                              genres homepage     id    imdb_id  \\\n",
       "0           [history, comedy, drama]      NaN  56167  tt0044487   \n",
       "1  [horror, mystery, sciencefiction]      NaN  12223  tt0073747   \n",
       "2                           [horror]      NaN  77257  tt0071478   \n",
       "3           [mystery, drama, horror]      NaN  73116  tt0083693   \n",
       "4       [action, adventure, foreign]      NaN  17223  tt0867205   \n",
       "\n",
       "  original_language       original_title  ...  \\\n",
       "0                it     Le Carrosse d'or  ...   \n",
       "1                en   The Stepford Wives  ...   \n",
       "2                es            Exorcismo  ...   \n",
       "3                en  Brimstone & Treacle  ...   \n",
       "4                en           Two Tigers  ...   \n",
       "\n",
       "                                             tagline                title  \\\n",
       "0                                                NaN     The Golden Coach   \n",
       "1  Something strange is happening in the town of ...   The Stepford Wives   \n",
       "2  A theme that has thrilled audiences all over t...            Exorcismo   \n",
       "3                                                NaN  Brimstone & Treacle   \n",
       "4                                                NaN           Two Tigers   \n",
       "\n",
       "   video vote_average vote_count  \\\n",
       "0  False          7.3       13.0   \n",
       "1  False          6.7       79.0   \n",
       "2  False          7.5        2.0   \n",
       "3  False          6.8        8.0   \n",
       "4  False          3.5        2.0   \n",
       "\n",
       "                                            cast  \\\n",
       "0    [annamagnani, odoardospadaro, nadafiorelli]   \n",
       "1  [katharineross, paulaprentiss, nanettenewman]   \n",
       "2         [paulnaschy, mariaperschy, maríakosty]   \n",
       "3         [sting, denholmelliott, joanplowright]   \n",
       "4         [selenakhoo, jaynatelle, andreaosvárt]   \n",
       "\n",
       "                                                crew  \\\n",
       "0  [{'credit_id': '58a9b825c3a3680bc20094e5', 'de...   \n",
       "1  [{'credit_id': '52fe44cd9251416c7504166d', 'de...   \n",
       "2  [{'credit_id': '52fe4964c3a368484e129173', 'de...   \n",
       "3  [{'credit_id': '52fe488dc3a368484e0fe971', 'de...   \n",
       "4  [{'credit_id': '52fe47119251416c7508cc03', 'de...   \n",
       "\n",
       "                                keywords          director  \\\n",
       "0        [theater, latinamerica, acting]        jeanrenoir   \n",
       "1  [suspense, independentfilm, cultfilm]       bryanforbes   \n",
       "2            [femalenudity, sex, nudity]         juanbosch   \n",
       "3                               [gothic]  richardloncraine   \n",
       "4                                     []       sandrocecca   \n",
       "\n",
       "                                                soup  \n",
       "0  jeanrenoirtheater latinamerica acting annamagn...  \n",
       "1  bryanforbessuspense independentfilm cultfilm k...  \n",
       "2  juanboschfemalenudity sex nudity paulnaschy ma...  \n",
       "3  richardloncrainegothic sting denholmelliott jo...  \n",
       "4  sandrocecca selenakhoo jaynatelle andreaosvárt...  \n",
       "\n",
       "[5 rows x 30 columns]"
      ]
     },
     "execution_count": 38,
     "metadata": {},
     "output_type": "execute_result"
    }
   ],
   "source": [
    "metadata_sampled.head()"
   ]
  },
  {
   "cell_type": "code",
   "execution_count": 39,
   "id": "8ddb251b-d277-4774-add7-7eae9cffd356",
   "metadata": {
    "execution": {
     "iopub.execute_input": "2021-08-02T08:02:41.219051Z",
     "iopub.status.busy": "2021-08-02T08:02:41.219051Z",
     "iopub.status.idle": "2021-08-02T08:02:41.234871Z",
     "shell.execute_reply": "2021-08-02T08:02:41.233221Z",
     "shell.execute_reply.started": "2021-08-02T08:02:41.219051Z"
    },
    "tags": []
   },
   "outputs": [
    {
     "data": {
      "text/plain": [
       "CountVectorizer(stop_words='english')"
      ]
     },
     "execution_count": 39,
     "metadata": {},
     "output_type": "execute_result"
    }
   ],
   "source": [
    "count_vec = CountVectorizer(stop_words='english')\n",
    "count_vec"
   ]
  },
  {
   "cell_type": "code",
   "execution_count": 40,
   "id": "0f892ef0-5807-418a-b11e-cde45927ba7a",
   "metadata": {
    "execution": {
     "iopub.execute_input": "2021-08-02T08:02:41.235855Z",
     "iopub.status.busy": "2021-08-02T08:02:41.235855Z",
     "iopub.status.idle": "2021-08-02T08:02:41.580067Z",
     "shell.execute_reply": "2021-08-02T08:02:41.580067Z",
     "shell.execute_reply.started": "2021-08-02T08:02:41.235855Z"
    },
    "tags": []
   },
   "outputs": [],
   "source": [
    "count_matrix = count_vec.fit_transform(metadata_sampled['soup'])"
   ]
  },
  {
   "cell_type": "code",
   "execution_count": 41,
   "id": "29779ecc-a300-4d27-a38e-8df6be5b395d",
   "metadata": {
    "execution": {
     "iopub.execute_input": "2021-08-02T08:02:41.581105Z",
     "iopub.status.busy": "2021-08-02T08:02:41.581105Z",
     "iopub.status.idle": "2021-08-02T08:02:41.595690Z",
     "shell.execute_reply": "2021-08-02T08:02:41.595250Z",
     "shell.execute_reply.started": "2021-08-02T08:02:41.581105Z"
    },
    "tags": []
   },
   "outputs": [
    {
     "data": {
      "text/plain": [
       "(20003, 51485)"
      ]
     },
     "execution_count": 41,
     "metadata": {},
     "output_type": "execute_result"
    }
   ],
   "source": [
    "count_matrix.shape"
   ]
  },
  {
   "cell_type": "code",
   "execution_count": 42,
   "id": "09286501-7b13-4fcc-afdd-2faa31d6e2d0",
   "metadata": {
    "execution": {
     "iopub.execute_input": "2021-08-02T08:02:41.596446Z",
     "iopub.status.busy": "2021-08-02T08:02:41.596446Z",
     "iopub.status.idle": "2021-08-02T08:02:52.524363Z",
     "shell.execute_reply": "2021-08-02T08:02:52.523364Z",
     "shell.execute_reply.started": "2021-08-02T08:02:41.596446Z"
    },
    "tags": []
   },
   "outputs": [
    {
     "name": "stdout",
     "output_type": "stream",
     "text": [
      "Wall time: 10.7 s\n"
     ]
    },
    {
     "data": {
      "text/plain": [
       "(20003, 20003)"
      ]
     },
     "execution_count": 42,
     "metadata": {},
     "output_type": "execute_result"
    }
   ],
   "source": [
    "%%time\n",
    "\n",
    "cosine_sim2 = cosine_similarity(count_matrix, count_matrix)\n",
    "cosine_sim2.shape"
   ]
  },
  {
   "cell_type": "code",
   "execution_count": 43,
   "id": "57376179-a45b-4ae0-b234-6c18a8910329",
   "metadata": {
    "execution": {
     "iopub.execute_input": "2021-08-02T08:02:52.533363Z",
     "iopub.status.busy": "2021-08-02T08:02:52.532363Z",
     "iopub.status.idle": "2021-08-02T08:02:52.600241Z",
     "shell.execute_reply": "2021-08-02T08:02:52.600241Z",
     "shell.execute_reply.started": "2021-08-02T08:02:52.533363Z"
    },
    "tags": []
   },
   "outputs": [],
   "source": [
    "metadata_sampled.reset_index(drop=True, inplace=True)\n",
    "indices = pd.Series(metadata_sampled.index, index=metadata_sampled['title'])"
   ]
  },
  {
   "cell_type": "code",
   "execution_count": 44,
   "id": "166d74b7-be08-4f07-9de1-aac0c565c37b",
   "metadata": {
    "execution": {
     "iopub.execute_input": "2021-08-02T08:02:52.602292Z",
     "iopub.status.busy": "2021-08-02T08:02:52.601292Z",
     "iopub.status.idle": "2021-08-02T08:02:52.631289Z",
     "shell.execute_reply": "2021-08-02T08:02:52.631289Z",
     "shell.execute_reply.started": "2021-08-02T08:02:52.602292Z"
    },
    "tags": []
   },
   "outputs": [
    {
     "data": {
      "text/plain": [
       "title\n",
       "The Golden Coach           0\n",
       "The Stepford Wives         1\n",
       "Exorcismo                  2\n",
       "Brimstone & Treacle        3\n",
       "Two Tigers                 4\n",
       "                       ...  \n",
       "Fire                   19998\n",
       "Voyager                19999\n",
       "Adam                   20000\n",
       "Vabank II              20001\n",
       "Tinpis Run             20002\n",
       "Length: 20003, dtype: int64"
      ]
     },
     "execution_count": 44,
     "metadata": {},
     "output_type": "execute_result"
    }
   ],
   "source": [
    "indices"
   ]
  },
  {
   "cell_type": "code",
   "execution_count": 45,
   "id": "5ea8fbbf-b5ca-4a40-a86c-41950c742c99",
   "metadata": {
    "execution": {
     "iopub.execute_input": "2021-08-02T08:02:52.632407Z",
     "iopub.status.busy": "2021-08-02T08:02:52.632407Z",
     "iopub.status.idle": "2021-08-02T08:02:52.710500Z",
     "shell.execute_reply": "2021-08-02T08:02:52.709843Z",
     "shell.execute_reply.started": "2021-08-02T08:02:52.632407Z"
    },
    "tags": []
   },
   "outputs": [
    {
     "data": {
      "text/plain": [
       "1609               Raising Jeffrey Dahmer\n",
       "4485                        The Unseeable\n",
       "9173                 404: Error Not Found\n",
       "14908                             Absurda\n",
       "1460                            Ghost Son\n",
       "2687                      Robin Redbreast\n",
       "3845                     The Silent House\n",
       "5709                         The Unwanted\n",
       "11532       The Hound of the Baskervilles\n",
       "14948    The Mystery of the Marie Celeste\n",
       "Name: title, dtype: object"
      ]
     },
     "execution_count": 45,
     "metadata": {},
     "output_type": "execute_result"
    }
   ],
   "source": [
    "get_recommendation('Brimstone & Treacle', cosine_sim2)"
   ]
  },
  {
   "cell_type": "markdown",
   "id": "55d9b6ab-443c-4ae1-9734-75eee409aecc",
   "metadata": {},
   "source": [
    "## Conclusion"
   ]
  },
  {
   "cell_type": "markdown",
   "id": "b1d64665-c8be-4834-ba98-09c0e570156b",
   "metadata": {},
   "source": [
    "trên đây là 2 cách sử dụng để tạo hệ thống khuyến nghị dựa trên nội dung: sử dụng overview của phim hoặc là sử dụng các tham số khác như tên đạo diễn, từ khóa, diễn viên phim casting, thể loại.\n",
    "\n",
    "Có thể kết hợp `cosine_sim` và `cosine_sim2` để đưa ra gợi ý chính xác hơn: dựa vào cả nội dung phim và cả các chi tiết tham số khác"
   ]
  }
 ],
 "metadata": {
  "kernelspec": {
   "display_name": "Python 3",
   "language": "python",
   "name": "python3"
  },
  "language_info": {
   "codemirror_mode": {
    "name": "ipython",
    "version": 3
   },
   "file_extension": ".py",
   "mimetype": "text/x-python",
   "name": "python",
   "nbconvert_exporter": "python",
   "pygments_lexer": "ipython3",
   "version": "3.8.8"
  }
 },
 "nbformat": 4,
 "nbformat_minor": 5
}
